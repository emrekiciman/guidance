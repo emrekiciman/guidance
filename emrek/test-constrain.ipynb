{
 "cells": [
  {
   "cell_type": "code",
   "execution_count": 1,
   "metadata": {},
   "outputs": [],
   "source": [
    "import sys\n",
    "sys.path.insert(0, 'c:\\\\users\\\\emrek\\\\source\\\\guidance\\\\guidance-pythonic\\\\guidance')\n",
    "import guidance\n",
    "from guidance.library.constraints import ContextFreeGrammarConstraint, DummyCharacterConstraint, OddEvenDigitConstraint"
   ]
  },
  {
   "cell_type": "code",
   "execution_count": 2,
   "metadata": {},
   "outputs": [
    {
     "data": {
      "text/html": [
       "<pre style='margin: 0px; padding: 0px; padding-left: 8px; margin-left: -8px; border-radius: 0px; border-left: 1px solid rgba(127, 127, 127, 0.2); white-space: pre-wrap; font-family: ColfaxAI, Arial; font-size: 15px; line-height: 23px;'>Hello<span style='background-color: rgba(0, 165, 0, 0.25)'> or do !!!!  !!!!!! ! !!!!!!!!!!!!!! </span></pre>"
      ],
      "text/plain": [
       "<IPython.core.display.HTML object>"
      ]
     },
     "metadata": {},
     "output_type": "display_data"
    }
   ],
   "source": [
    "lm = guidance.models.Transformers(\"gpt2\", temperature=1.0)\n",
    "lm = lm(\"Hello\").constrain(name=\"var1\", constraint=DummyCharacterConstraint(positiveConstraint=[' ','W','w','o', 'r', 'l', 'd', '!']), max_tokens=10)"
   ]
  },
  {
   "cell_type": "code",
   "execution_count": 3,
   "metadata": {},
   "outputs": [
    {
     "data": {
      "text/html": [
       "<pre style='margin: 0px; padding: 0px; padding-left: 8px; margin-left: -8px; border-radius: 0px; border-left: 1px solid rgba(127, 127, 127, 0.2); white-space: pre-wrap; font-family: ColfaxAI, Arial; font-size: 15px; line-height: 23px;'>Hello <span style='background-color: rgba(0, 165, 0, 0.25)'>321616321632163216</span></pre>"
      ],
      "text/plain": [
       "<IPython.core.display.HTML object>"
      ]
     },
     "metadata": {},
     "output_type": "display_data"
    }
   ],
   "source": [
    "lm = guidance.models.Transformers(\"gpt2\", temperature=1.0)\n",
    "lm = lm(\"Hello \").constrain(name=\"var1\", constraint=OddEvenDigitConstraint(), max_tokens=10)"
   ]
  },
  {
   "cell_type": "code",
   "execution_count": 4,
   "metadata": {},
   "outputs": [],
   "source": [
    "\n",
    "lm = guidance.models.Transformers(\"gpt2\", temperature=1.0)\n",
    "\n",
    "testCFG = ContextFreeGrammarConstraint()\n",
    "testCFG.add_grammar_rule(testCFG.Rule(\"S\", [\"@i\", \"@f\", \"@ \", \"E\", \"@ \", \"@t\", \"@h\", \"@e\", \"@n\", \"@ \", \"C\"]))\n",
    "testCFG.add_grammar_rule(testCFG.Rule(\"E\", [\"@1\"]))\n",
    "testCFG.add_grammar_rule(testCFG.Rule(\"E\", [\"@2\"]))\n",
    "testCFG.add_grammar_rule(testCFG.Rule(\"E\", [\"@3\"]))\n",
    "testCFG.add_grammar_rule(testCFG.Rule(\"E\", [\"@4\"]))\n",
    "testCFG.add_grammar_rule(testCFG.Rule(\"E\", [\"@5\"]))\n",
    "testCFG.add_grammar_rule(testCFG.Rule(\"E\", [\"@6\"]))\n",
    "testCFG.add_grammar_rule(testCFG.Rule(\"E\", [\"@7\"]))\n",
    "testCFG.add_grammar_rule(testCFG.Rule(\"E\", [\"@8\"]))\n",
    "testCFG.add_grammar_rule(testCFG.Rule(\"E\", [\"@9\"]))\n",
    "testCFG.add_grammar_rule(testCFG.Rule(\"E\", [\"@(\", \"E\", \"@)\"]))\n",
    "testCFG.add_grammar_rule(testCFG.Rule(\"E\", [\"E\", \"@+\", \"E\"]))\n",
    "testCFG.add_grammar_rule(testCFG.Rule(\"E\", [\"E\", \"@-\", \"E\"]))\n",
    "testCFG.add_grammar_rule(testCFG.Rule(\"E\", [\"E\", \"@*\", \"E\"]))\n",
    "testCFG.add_grammar_rule(testCFG.Rule(\"E\", [\"E\", \"@/\", \"E\"]))\n",
    "testCFG.add_grammar_rule(testCFG.Rule(\"C\", [\"@X\", \"@=\", \"E\"]))\n",
    "testCFG.finalize_grammar()\n"
   ]
  },
  {
   "cell_type": "code",
   "execution_count": 5,
   "metadata": {},
   "outputs": [
    {
     "data": {
      "text/html": [
       "<pre style='margin: 0px; padding: 0px; padding-left: 8px; margin-left: -8px; border-radius: 0px; border-left: 1px solid rgba(127, 127, 127, 0.2); white-space: pre-wrap; font-family: ColfaxAI, Arial; font-size: 15px; line-height: 23px;'>If 2+4 then return 8: <span style='background-color: rgba(0, 165, 0, 0.25)'>if 1 then X=6</span></pre>"
      ],
      "text/plain": [
       "<IPython.core.display.HTML object>"
      ]
     },
     "metadata": {},
     "output_type": "display_data"
    }
   ],
   "source": [
    "lm = lm(\"If 2+4 then return 8: \").constrain(name = \"var1\", constraint=testCFG, max_tokens=10)\n"
   ]
  }
 ],
 "metadata": {
  "kernelspec": {
   "display_name": "Python 3",
   "language": "python",
   "name": "python3"
  },
  "language_info": {
   "codemirror_mode": {
    "name": "ipython",
    "version": 3
   },
   "file_extension": ".py",
   "mimetype": "text/x-python",
   "name": "python",
   "nbconvert_exporter": "python",
   "pygments_lexer": "ipython3",
   "version": "3.9.13"
  },
  "orig_nbformat": 4
 },
 "nbformat": 4,
 "nbformat_minor": 2
}
